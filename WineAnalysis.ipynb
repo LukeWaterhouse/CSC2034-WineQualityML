{
  "nbformat": 4,
  "nbformat_minor": 0,
  "metadata": {
    "colab": {
      "name": "WineAnalysis.ipynb",
      "provenance": [],
      "authorship_tag": "ABX9TyPG7ddBpCgBDVYyanzxKThG",
      "include_colab_link": true
    },
    "kernelspec": {
      "name": "python3",
      "display_name": "Python 3"
    },
    "language_info": {
      "name": "python"
    }
  },
  "cells": [
    {
      "cell_type": "markdown",
      "metadata": {
        "id": "view-in-github",
        "colab_type": "text"
      },
      "source": [
        "<a href=\"https://colab.research.google.com/github/LukeWaterhouse/DataScienceWine/blob/main/WineAnalysis.ipynb\" target=\"_parent\"><img src=\"https://colab.research.google.com/assets/colab-badge.svg\" alt=\"Open In Colab\"/></a>"
      ]
    },
    {
      "cell_type": "code",
      "metadata": {
        "id": "FdS6aO1_Cjvd",
        "colab": {
          "base_uri": "https://localhost:8080/"
        },
        "outputId": "5cd2826d-ede5-4b75-f75e-7dee07fdbdbf"
      },
      "source": [
        "print(\"Hello World\")"
      ],
      "execution_count": null,
      "outputs": [
        {
          "output_type": "stream",
          "text": [
            "Hello World\n"
          ],
          "name": "stdout"
        }
      ]
    }
  ]
}